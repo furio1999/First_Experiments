{
  "nbformat": 4,
  "nbformat_minor": 0,
  "metadata": {
    "colab": {
      "name": "MLEx13.CNNEnsembles_CIFAR10",
      "provenance": [],
      "collapsed_sections": [],
      "toc_visible": true,
      "include_colab_link": true
    },
    "kernelspec": {
      "name": "python3",
      "display_name": "Python 3"
    },
    "accelerator": "GPU"
  },
  "cells": [
    {
      "cell_type": "markdown",
      "metadata": {
        "id": "view-in-github",
        "colab_type": "text"
      },
      "source": [
        "<a href=\"https://colab.research.google.com/github/furio1999/Fulvio.github.io/blob/main/MLEx13_CNNEnsembles_CIFAR10.ipynb\" target=\"_parent\"><img src=\"https://colab.research.google.com/assets/colab-badge.svg\" alt=\"Open In Colab\"/></a>"
      ]
    },
    {
      "cell_type": "markdown",
      "metadata": {
        "id": "Z3GYzNWONtju"
      },
      "source": [
        "# Machine Learning Exercise 13\n",
        "\n",
        "# CNN Ensembles - CIFAR10 \n",
        "\n"
      ]
    },
    {
      "cell_type": "markdown",
      "metadata": {
        "id": "eDEJU1RwoIlv"
      },
      "source": [
        "##Import \n",
        "\n",
        "Import libraries and print some versions.\n",
        "\n",
        "To use GPU, set `Edit / Notebook settings / Hardware accelerator` to **GPU**."
      ]
    },
    {
      "cell_type": "code",
      "metadata": {
        "id": "BSKuPnIXNoq2",
        "colab": {
          "base_uri": "https://localhost:8080/"
        },
        "outputId": "a6ee58bf-6c62-4822-e285-6b80a5ee5170"
      },
      "source": [
        "%tensorflow_version 2.x\n",
        "\n",
        "import numpy as np\n",
        "import tensorflow as tf\n",
        "import keras\n",
        "\n",
        "print(\"Tensorflow version %s\" %tf.__version__)\n",
        "\n",
        "device_name = tf.test.gpu_device_name()\n",
        "if device_name != '/device:GPU:0':\n",
        "  raise SystemError('GPU device not found')\n",
        "print('Found GPU at: {}'.format(device_name))"
      ],
      "execution_count": null,
      "outputs": [
        {
          "output_type": "stream",
          "text": [
            "Tensorflow version 2.3.0\n",
            "Found GPU at: /device:GPU:0\n"
          ],
          "name": "stdout"
        }
      ]
    },
    {
      "cell_type": "markdown",
      "metadata": {
        "id": "KaeLRpWIfO1m"
      },
      "source": [
        "## Load data\n",
        "\n",
        "Load training data from Keras library\n",
        "\n",
        "\n"
      ]
    },
    {
      "cell_type": "code",
      "metadata": {
        "id": "7kECuF5cgxxW",
        "colab": {
          "base_uri": "https://localhost:8080/"
        },
        "outputId": "17228aab-efe5-4398-aac9-64d690355446"
      },
      "source": [
        "def load_cifar10():\n",
        "    # load data\n",
        "    (Xtrain,Ytrain), (Xtest, Ytest) = keras.datasets.cifar10.load_data()\n",
        "    print(Ytrain.shape)\n",
        "    # get information\n",
        "    ninput = Xtrain.shape[0]\n",
        "    imgsize = (Xtrain.shape[1], Xtrain.shape[2])\n",
        "    input_shape = (Xtrain.shape[1], Xtrain.shape[2], Xtrain.shape[3])\n",
        "    ntest = Xtest.shape[0]\n",
        "    num_classes = np.max(np.unique(Ytrain)) + 1\n",
        "    print(\"Training input %s\" %str(Xtrain.shape))\n",
        "    print(\"Training output %s\" %str(Ytrain.shape))\n",
        "    print(\"Test input %s\" %str(Xtest.shape))\n",
        "    print(\"Test output %s\" %str(Ytest.shape))\n",
        "    print(\"Input shape: %s\" %str(input_shape))\n",
        "    print(\"Number of classes: %d\" %num_classes)\n",
        "\n",
        "    # normalize input to [0,1]\n",
        "    Xtrain = Xtrain / 255.0\n",
        "    Xtest = Xtest / 255.0\n",
        "    \n",
        "    # Transform output to one-out-of-n encoding\n",
        "    Ytrain = keras.utils.to_categorical(Ytrain, num_classes)\n",
        "    Ytest = keras.utils.to_categorical(Ytest, num_classes)\n",
        "    \n",
        "    return [Xtrain,Ytrain,Xtest,Ytest,input_shape,num_classes]\n",
        "\n",
        "[Xtrain,Ytrain,Xtest,Ytest,input_shape,num_classes] = load_cifar10()"
      ],
      "execution_count": null,
      "outputs": [
        {
          "output_type": "stream",
          "text": [
            "Downloading data from https://www.cs.toronto.edu/~kriz/cifar-10-python.tar.gz\n",
            "170500096/170498071 [==============================] - 2s 0us/step\n",
            "(50000, 1)\n",
            "Training input (50000, 32, 32, 3)\n",
            "Training output (50000, 1)\n",
            "Test input (10000, 32, 32, 3)\n",
            "Test output (10000, 1)\n",
            "Input shape: (32, 32, 3)\n",
            "Number of classes: 10\n"
          ],
          "name": "stdout"
        }
      ]
    },
    {
      "cell_type": "markdown",
      "metadata": {
        "id": "R6DMvR8TzJiK"
      },
      "source": [
        "## Show random image\n",
        "\n"
      ]
    },
    {
      "cell_type": "code",
      "metadata": {
        "id": "P0N3cUSazRcJ",
        "colab": {
          "base_uri": "https://localhost:8080/",
          "height": 285
        },
        "outputId": "ab3aeb9b-7575-4575-eca3-fa816381fab2"
      },
      "source": [
        "import matplotlib.pyplot as plt\n",
        "import random\n",
        "\n",
        "i = random.randrange(0,Xtrain.shape[0])\n",
        "image = Xtrain[i]\n",
        "image = np.array(image, dtype='float')\n",
        "\n",
        "label = Ytrain[i].argmax()  # categorical from one-hot-encoding\n",
        "print(label)\n",
        "\n",
        "plt.imshow(image, cmap='gray')\n",
        "plt.show()\n"
      ],
      "execution_count": null,
      "outputs": [
        {
          "output_type": "stream",
          "text": [
            "5\n"
          ],
          "name": "stdout"
        },
        {
          "output_type": "display_data",
          "data": {
            "image/png": "[encoded data removed]",
            "text/plain": [
              "<Figure size 432x288 with 1 Axes>"
            ]
          },
          "metadata": {
            "tags": [],
            "needs_background": "light"
          }
        }
      ]
    },
    {
      "cell_type": "markdown",
      "metadata": {
        "id": "q1EwWO9m3bGg"
      },
      "source": [
        "##CNN ensemble model\n"
      ]
    },
    {
      "cell_type": "code",
      "metadata": {
        "id": "1DTCwfVg3jRX",
        "colab": {
          "base_uri": "https://localhost:8080/"
        },
        "outputId": "4b87e4e7-b963-4a7c-de7b-0de7bb38dfc6"
      },
      "source": [
        "from keras.models import Model\n",
        "from keras.layers import Dense, Activation, Dropout, Flatten,\\\n",
        "                         Conv2D, MaxPool2D, Input\n",
        "from keras.layers.normalization import BatchNormalization\n",
        "from keras import regularizers\n",
        "from keras import optimizers\n",
        "\n",
        "# single model\n",
        "def CNN(input_shape, num_classes, base_width=16, depth=4):\n",
        "    \n",
        "    inputs = Input(input_shape)\n",
        "    \n",
        "    image_size = input_shape[0]\n",
        "    filters = base_width\n",
        "\n",
        "    # feature extractor\n",
        "    for i in range(depth):\n",
        "        if i == 0:\n",
        "            x = Conv2D(filters=filters,\n",
        "                       kernel_size = 3,\n",
        "                       activation=\"relu\",\n",
        "                       strides=1,\n",
        "                       padding=\"same\")(inputs)\n",
        "        else:\n",
        "            x = Conv2D(filters=filters,\n",
        "                       kernel_size = 3,\n",
        "                       activation=\"relu\",\n",
        "                       strides=1,\n",
        "                       padding=\"same\")(x)\n",
        "            \n",
        "        x = MaxPool2D()(x)\n",
        "        filters *= 2\n",
        "    \n",
        "    x = Flatten()(x) \n",
        "    x = Dropout(0.4)(x)\n",
        "    \n",
        "    outputs = Dense(num_classes, activation=\"softmax\")(x)\n",
        "    model = tf.keras.Model(inputs, outputs)\n",
        "    return model\n",
        "\n",
        "# ensemble model\n",
        "def Ensemble(ens_dim, input_shape, num_classes, base_width=16, depth=4):\n",
        "  inputs = Input(shape=input_shape)\n",
        "  \n",
        "  learners = [CNN(input_shape,\n",
        "                  num_classes,\n",
        "                  base_width,\n",
        "                  depth) for _ in range(ens_dim)]\n",
        "  \n",
        "  outputs = [learners[i](inputs) for i in range(ens_dim)]\n",
        "  \n",
        "  ensemble_model = Model(inputs, outputs, name=\"ensemble_model\")\n",
        "  optimizer = 'adam'\n",
        "  # an independent loss for each model\n",
        "  losses = [\"categorical_crossentropy\" for _ in range(ens_dim)]\n",
        "  ensemble_model.compile(loss=losses, optimizer=optimizer, metrics=['accuracy'])\n",
        "  return ensemble_model\n",
        "\n",
        "\n",
        "# create the ensemble model\n",
        "ens_dim = 3\n",
        "model = Ensemble(ens_dim, input_shape, num_classes)\n",
        "model.summary()\n",
        "\n",
        "# single model summary\n",
        "model.get_layer(index=-1).summary()"
      ],
      "execution_count": null,
      "outputs": [
        {
          "output_type": "stream",
          "text": [
            "Model: \"ensemble_model\"\n",
            "__________________________________________________________________________________________________\n",
            "Layer (type)                    Output Shape         Param #     Connected to                     \n",
            "==================================================================================================\n",
            "input_22 (InputLayer)           [(None, 32, 32, 3)]  0                                            \n",
            "__________________________________________________________________________________________________\n",
            "functional_19 (Functional)      (None, 10)           102570      input_22[0][0]                   \n",
            "__________________________________________________________________________________________________\n",
            "functional_21 (Functional)      (None, 10)           102570      input_22[0][0]                   \n",
            "__________________________________________________________________________________________________\n",
            "functional_23 (Functional)      (None, 10)           102570      input_22[0][0]                   \n",
            "==================================================================================================\n",
            "Total params: 307,710\n",
            "Trainable params: 307,710\n",
            "Non-trainable params: 0\n",
            "__________________________________________________________________________________________________\n",
            "Model: \"functional_23\"\n",
            "_________________________________________________________________\n",
            "Layer (type)                 Output Shape              Param #   \n",
            "=================================================================\n",
            "input_25 (InputLayer)        [(None, 32, 32, 3)]       0         \n",
            "_________________________________________________________________\n",
            "conv2d_50 (Conv2D)           (None, 32, 32, 16)        448       \n",
            "_________________________________________________________________\n",
            "max_pooling2d_48 (MaxPooling (None, 16, 16, 16)        0         \n",
            "_________________________________________________________________\n",
            "conv2d_51 (Conv2D)           (None, 16, 16, 32)        4640      \n",
            "_________________________________________________________________\n",
            "max_pooling2d_49 (MaxPooling (None, 8, 8, 32)          0         \n",
            "_________________________________________________________________\n",
            "conv2d_52 (Conv2D)           (None, 8, 8, 64)          18496     \n",
            "_________________________________________________________________\n",
            "max_pooling2d_50 (MaxPooling (None, 4, 4, 64)          0         \n",
            "_________________________________________________________________\n",
            "conv2d_53 (Conv2D)           (None, 4, 4, 128)         73856     \n",
            "_________________________________________________________________\n",
            "max_pooling2d_51 (MaxPooling (None, 2, 2, 128)         0         \n",
            "_________________________________________________________________\n",
            "flatten_12 (Flatten)         (None, 512)               0         \n",
            "_________________________________________________________________\n",
            "dropout_12 (Dropout)         (None, 512)               0         \n",
            "_________________________________________________________________\n",
            "dense_12 (Dense)             (None, 10)                5130      \n",
            "=================================================================\n",
            "Total params: 102,570\n",
            "Trainable params: 102,570\n",
            "Non-trainable params: 0\n",
            "_________________________________________________________________\n"
          ],
          "name": "stdout"
        }
      ]
    },
    {
      "cell_type": "markdown",
      "metadata": {
        "id": "egL15iQztTDH"
      },
      "source": [
        "## Train"
      ]
    },
    {
      "cell_type": "code",
      "metadata": {
        "id": "EKOdDvgf5YlZ",
        "colab": {
          "base_uri": "https://localhost:8080/"
        },
        "outputId": "436b706b-a068-4a35-b6b5-17c6459fd9c1"
      },
      "source": [
        "epochs = 10\n",
        "history = model.fit(Xtrain, [Ytrain for _ in range(ens_dim)], batch_size=32, epochs=epochs, validation_data = (Xtest,[Ytest for _ in range(ens_dim)]))"
      ],
      "execution_count": null,
      "outputs": [
        {
          "output_type": "stream",
          "text": [
            "Epoch 1/10\n",
            "1563/1563 [==============================] - 16s 10ms/step - loss: 4.7030 - functional_19_loss: 1.5645 - functional_21_loss: 1.5617 - functional_23_loss: 1.5767 - functional_19_accuracy: 0.4259 - functional_21_accuracy: 0.4245 - functional_23_accuracy: 0.4202 - val_loss: 3.7866 - val_functional_19_loss: 1.2675 - val_functional_21_loss: 1.2508 - val_functional_23_loss: 1.2683 - val_functional_19_accuracy: 0.5535 - val_functional_21_accuracy: 0.5511 - val_functional_23_accuracy: 0.5486\n",
            "Epoch 2/10\n",
            "1563/1563 [==============================] - 15s 10ms/step - loss: 3.6082 - functional_19_loss: 1.1960 - functional_21_loss: 1.2004 - functional_23_loss: 1.2119 - functional_19_accuracy: 0.5743 - functional_21_accuracy: 0.5702 - functional_23_accuracy: 0.5633 - val_loss: 3.2571 - val_functional_19_loss: 1.1108 - val_functional_21_loss: 1.0635 - val_functional_23_loss: 1.0828 - val_functional_19_accuracy: 0.6184 - val_functional_21_accuracy: 0.6259 - val_functional_23_accuracy: 0.6173\n",
            "Epoch 3/10\n",
            "1563/1563 [==============================] - 15s 10ms/step - loss: 3.1301 - functional_19_loss: 1.0386 - functional_21_loss: 1.0487 - functional_23_loss: 1.0429 - functional_19_accuracy: 0.6290 - functional_21_accuracy: 0.6266 - functional_23_accuracy: 0.6290 - val_loss: 2.8428 - val_functional_19_loss: 0.9365 - val_functional_21_loss: 0.9536 - val_functional_23_loss: 0.9528 - val_functional_19_accuracy: 0.6694 - val_functional_21_accuracy: 0.6634 - val_functional_23_accuracy: 0.6616\n",
            "Epoch 4/10\n",
            "1563/1563 [==============================] - 15s 9ms/step - loss: 2.8325 - functional_19_loss: 0.9417 - functional_21_loss: 0.9498 - functional_23_loss: 0.9411 - functional_19_accuracy: 0.6661 - functional_21_accuracy: 0.6630 - functional_23_accuracy: 0.6651 - val_loss: 2.7421 - val_functional_19_loss: 0.8913 - val_functional_21_loss: 0.9417 - val_functional_23_loss: 0.9092 - val_functional_19_accuracy: 0.6907 - val_functional_21_accuracy: 0.6680 - val_functional_23_accuracy: 0.6770\n",
            "Epoch 5/10\n",
            "1563/1563 [==============================] - 14s 9ms/step - loss: 2.6154 - functional_19_loss: 0.8680 - functional_21_loss: 0.8778 - functional_23_loss: 0.8695 - functional_19_accuracy: 0.6943 - functional_21_accuracy: 0.6921 - functional_23_accuracy: 0.6917 - val_loss: 2.5764 - val_functional_19_loss: 0.8559 - val_functional_21_loss: 0.8748 - val_functional_23_loss: 0.8458 - val_functional_19_accuracy: 0.7023 - val_functional_21_accuracy: 0.6939 - val_functional_23_accuracy: 0.7041\n",
            "Epoch 6/10\n",
            "1563/1563 [==============================] - 15s 9ms/step - loss: 2.4410 - functional_19_loss: 0.8119 - functional_21_loss: 0.8170 - functional_23_loss: 0.8120 - functional_19_accuracy: 0.7126 - functional_21_accuracy: 0.7121 - functional_23_accuracy: 0.7123 - val_loss: 2.4771 - val_functional_19_loss: 0.8249 - val_functional_21_loss: 0.8099 - val_functional_23_loss: 0.8423 - val_functional_19_accuracy: 0.7154 - val_functional_21_accuracy: 0.7214 - val_functional_23_accuracy: 0.7077\n",
            "Epoch 7/10\n",
            "1563/1563 [==============================] - 14s 9ms/step - loss: 2.3052 - functional_19_loss: 0.7660 - functional_21_loss: 0.7706 - functional_23_loss: 0.7686 - functional_19_accuracy: 0.7300 - functional_21_accuracy: 0.7311 - functional_23_accuracy: 0.7304 - val_loss: 2.4062 - val_functional_19_loss: 0.7924 - val_functional_21_loss: 0.7897 - val_functional_23_loss: 0.8242 - val_functional_19_accuracy: 0.7232 - val_functional_21_accuracy: 0.7255 - val_functional_23_accuracy: 0.7118\n",
            "Epoch 8/10\n",
            "1563/1563 [==============================] - 14s 9ms/step - loss: 2.1950 - functional_19_loss: 0.7272 - functional_21_loss: 0.7353 - functional_23_loss: 0.7324 - functional_19_accuracy: 0.7431 - functional_21_accuracy: 0.7417 - functional_23_accuracy: 0.7415 - val_loss: 2.3732 - val_functional_19_loss: 0.8219 - val_functional_21_loss: 0.7634 - val_functional_23_loss: 0.7878 - val_functional_19_accuracy: 0.7161 - val_functional_21_accuracy: 0.7325 - val_functional_23_accuracy: 0.7280\n",
            "Epoch 9/10\n",
            "1563/1563 [==============================] - 14s 9ms/step - loss: 2.0873 - functional_19_loss: 0.6971 - functional_21_loss: 0.6951 - functional_23_loss: 0.6950 - functional_19_accuracy: 0.7531 - functional_21_accuracy: 0.7536 - functional_23_accuracy: 0.7532 - val_loss: 2.3993 - val_functional_19_loss: 0.8273 - val_functional_21_loss: 0.7822 - val_functional_23_loss: 0.7898 - val_functional_19_accuracy: 0.7183 - val_functional_21_accuracy: 0.7292 - val_functional_23_accuracy: 0.7273\n",
            "Epoch 10/10\n",
            "1563/1563 [==============================] - 14s 9ms/step - loss: 1.9990 - functional_19_loss: 0.6625 - functional_21_loss: 0.6701 - functional_23_loss: 0.6663 - functional_19_accuracy: 0.7667 - functional_21_accuracy: 0.7628 - functional_23_accuracy: 0.7638 - val_loss: 2.4231 - val_functional_19_loss: 0.8118 - val_functional_21_loss: 0.8044 - val_functional_23_loss: 0.8068 - val_functional_19_accuracy: 0.7219 - val_functional_21_accuracy: 0.7322 - val_functional_23_accuracy: 0.7280\n"
          ],
          "name": "stdout"
        }
      ]
    },
    {
      "cell_type": "markdown",
      "metadata": {
        "id": "YPtbelKYHy4K"
      },
      "source": [
        "##Evaluate the model"
      ]
    },
    {
      "cell_type": "markdown",
      "metadata": {
        "id": "fkx4x2M3vFpk"
      },
      "source": [
        "## Compare single networks with ensemble\n"
      ]
    },
    {
      "cell_type": "code",
      "metadata": {
        "id": "aLfiWAMGHxkH",
        "colab": {
          "base_uri": "https://localhost:8080/"
        },
        "outputId": "5ccedd0f-606a-439e-8658-bc7d049c89f4"
      },
      "source": [
        "import sklearn.metrics \n",
        "from sklearn.metrics import classification_report, confusion_matrix, accuracy_score\n",
        "\n",
        "# accuracy\n",
        "ind_test_acc = []\n",
        "ind_test_acc_profile = []\n",
        "for key in history.history.keys():\n",
        "  if (\"val\" in key) and (\"accuracy\" in key):\n",
        "    ind_test_acc.append(history.history[key][-1])\n",
        "    ind_test_acc_profile.append(history.history[key])\n",
        "print(\"Single models test accuracy: \", ind_test_acc)\n",
        "\n",
        "# ensemble test accuracy\n",
        "preds = np.array(model.predict(Xtest))\n",
        "# average over the ensemble\n",
        "preds_ens = np.mean(preds, axis=0)\n",
        "ens_test_acc = accuracy_score(np.argmax(Ytest, axis=-1), np.argmax(preds_ens, axis=-1))\n",
        "print(\"Ensemble test accuracy: \", ens_test_acc)"
      ],
      "execution_count": null,
      "outputs": [
        {
          "output_type": "stream",
          "text": [
            "Single models test accuracy:  [0.7218999862670898, 0.732200026512146, 0.7279999852180481]\n",
            "Ensemble test accuracy:  0.7675\n"
          ],
          "name": "stdout"
        }
      ]
    },
    {
      "cell_type": "code",
      "metadata": {
        "colab": {
          "base_uri": "https://localhost:8080/",
          "height": 296
        },
        "id": "2EMeKtRTkRHM",
        "outputId": "8ab0771c-ac8a-4f76-e4b8-33eba5bad576"
      },
      "source": [
        "plt.plot(np.transpose(ind_test_acc_profile), label=\"Single network\")\n",
        "plt.plot([ens_test_acc for _ in range(len(history.history[key]))], linestyle=\"--\", label=\"Ensemble of {} nets\".format(ens_dim))\n",
        "plt.legend()\n",
        "plt.ylabel('test accuracy')\n",
        "plt.xlabel('epoch')"
      ],
      "execution_count": null,
      "outputs": [
        {
          "output_type": "execute_result",
          "data": {
            "text/plain": [
              "Text(0.5, 0, 'epoch')"
            ]
          },
          "metadata": {
            "tags": []
          },
          "execution_count": 58
        },
        {
          "output_type": "display_data",
          "data": {
            "image/png": "[encoded data removed]",
            "text/plain": [
              "<Figure size 432x288 with 1 Axes>"
            ]
          },
          "metadata": {
            "tags": [],
            "needs_background": "light"
          }
        }
      ]
    },
    {
      "cell_type": "markdown",
      "metadata": {
        "id": "m99lALugmEzQ"
      },
      "source": [
        "# Home Exercises\n",
        "\n",
        "**Question 1** \n",
        "\n",
        "Evaluate the performance of ensembles varying the number of base members."
      ]
    }
  ]
}