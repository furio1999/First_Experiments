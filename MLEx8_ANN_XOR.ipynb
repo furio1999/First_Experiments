{
  "nbformat": 4,
  "nbformat_minor": 0,
  "metadata": {
    "colab": {
      "name": "MLEx8.ANN_XOR",
      "provenance": [],
      "collapsed_sections": [],
      "toc_visible": true,
      "include_colab_link": true
    },
    "kernelspec": {
      "name": "python3",
      "display_name": "Python 3"
    }
  },
  "cells": [
    {
      "cell_type": "markdown",
      "metadata": {
        "id": "view-in-github",
        "colab_type": "text"
      },
      "source": [
        "<a href=\"https://colab.research.google.com/github/furio1999/Fulvio.github.io/blob/main/MLEx8_ANN_XOR.ipynb\" target=\"_parent\"><img src=\"https://colab.research.google.com/assets/colab-badge.svg\" alt=\"Open In Colab\"/></a>"
      ]
    },
    {
      "cell_type": "markdown",
      "metadata": {
        "id": "K1Ldrsw3gyYK"
      },
      "source": [
        "# Machine Learning - Exercise 8\n",
        "# Artificial Neural Networks for XOR problem\n",
        "\n",
        "XOR function: f(x1,x2) -> {0,1}\n",
        "\n",
        "D = {(0,0,0), (0,1,1), (1,0,1), (1,1,0)}\n",
        "\n",
        "Non linearly separable.\n"
      ]
    },
    {
      "cell_type": "markdown",
      "metadata": {
        "id": "4HDgIK66g8oc"
      },
      "source": [
        "## Import libraries"
      ]
    },
    {
      "cell_type": "code",
      "metadata": {
        "id": "vGM7ZZulbRfT",
        "colab": {
          "base_uri": "https://localhost:8080/"
        },
        "outputId": "b3db4702-8be8-4fd8-f032-ec01bac57cdc"
      },
      "source": [
        "import random\n",
        "import matplotlib\n",
        "import matplotlib.pyplot as plt\n",
        "import numpy as np\n",
        "\n",
        "\n",
        "#import tensorflow.compat.v1 as tf\n",
        "#tf.disable_v2_behavior()\n",
        "import tensorflow as tf\n",
        "import keras\n",
        "from keras.models import Sequential, load_model\n",
        "from keras.layers.core import Dense, Dropout, Activation\n",
        "from keras.optimizers import SGD, RMSprop, Adagrad, Adam, Nadam\n",
        "\n",
        "print('Tensorflow ',tf.__version__)\n",
        "print('Keras ',keras.__version__)\n"
      ],
      "execution_count": null,
      "outputs": [
        {
          "output_type": "stream",
          "text": [
            "Tensorflow  2.3.0\n",
            "Keras  2.4.3\n"
          ],
          "name": "stdout"
        }
      ]
    },
    {
      "cell_type": "markdown",
      "metadata": {
        "id": "nOa7QmaDlSBm"
      },
      "source": [
        "## Create data set\n",
        "\n",
        "Enable the noise flag to create a noisy XOR data set.\n",
        "\n",
        "Fix random seed to repeat experiments."
      ]
    },
    {
      "cell_type": "code",
      "metadata": {
        "id": "8_56HRZylWV4",
        "colab": {
          "base_uri": "https://localhost:8080/",
          "height": 332
        },
        "outputId": "b60a35cb-0b89-47e3-a067-700cddf56bda"
      },
      "source": [
        "# Define the XOR dataset\n",
        "xor_db = np.array([[0,0,0], [0,1,1], [1,0,1], [1,1,0]], dtype=float)\n",
        "\n",
        "noise = True # generate noisy data\n",
        "\n",
        "# random seed\n",
        "rs = 20201108 # OK \n",
        "np.random.seed(rs)\n",
        "\n",
        "if (noise):\n",
        "  for i in range(4):\n",
        "    for k in range(10):\n",
        "      d = xor_db[i]\n",
        "      d[0] += np.random.random()*0.2 - 0.1\n",
        "      d[1] += np.random.random()*0.2 - 0.1\n",
        "      xor_db = np.vstack([xor_db, d])\n",
        "\n",
        "X = xor_db[:,0:-1]\n",
        "t = xor_db[:,-1]\n",
        "\n",
        "ninput = X.shape[1]\n",
        "nsamples = X.shape[0]\n",
        "\n",
        "print('Dataset: XOR')\n",
        "print('Number of features: %d' %ninput)\n",
        "print('Number of samples: %d' %nsamples)\n",
        "\n",
        "# print options\n",
        "np.set_printoptions(precision=3, formatter={'float':lambda x: '%6.3f' %x}, suppress=True)\n",
        "\n",
        "# plot dataset\n",
        "\n",
        "plt.title(\"Data set\")\n",
        "plt.xlim(xmin = -0.5, xmax = 1.5)\n",
        "plt.ylim(ymin = -0.5, ymax = 1.5)\n",
        "\n",
        "cm = plt.cm.get_cmap('rainbow')\n",
        "plt.scatter(X[:,0], X[:,1], c=t, cmap=cm)\n",
        "\n",
        "plt.show()"
      ],
      "execution_count": null,
      "outputs": [
        {
          "output_type": "stream",
          "text": [
            "Dataset: XOR\n",
            "Number of features: 2\n",
            "Number of samples: 44\n"
          ],
          "name": "stdout"
        },
        {
          "output_type": "display_data",
          "data": {
            "image/png": "[encoded data removed]",
            "text/plain": [
              "<Figure size 432x288 with 1 Axes>"
            ]
          },
          "metadata": {
            "tags": [],
            "needs_background": "light"
          }
        }
      ]
    },
    {
      "cell_type": "markdown",
      "metadata": {
        "id": "me8_rH3ahELo"
      },
      "source": [
        "## ANN for XOR dataset\n",
        "\n",
        "Create model with 2 layers:\n",
        "\n",
        "hidden layer with two ReLU unites, \n",
        "\n",
        "output layer with 1 linear unit.\n",
        "\n",
        "Fix random seed to repreat experiments. Two values are given showing convergence to global vs. local minimum."
      ]
    },
    {
      "cell_type": "code",
      "metadata": {
        "id": "k3b_tqSabpU9",
        "colab": {
          "base_uri": "https://localhost:8080/"
        },
        "outputId": "a602b55c-b04b-4b13-f0aa-2aa148d4e1b1"
      },
      "source": [
        "nh = 2 # nr. of hidden units\n",
        "acth = 'relu' # activation function for hidden units\n",
        "no = 1 # nr. of output units\n",
        "acto = 'linear' # activation function for output unit\n",
        "lossfn = 'mean_squared_error' # loss function\n",
        "lrate = 0.001 # learning rate\n",
        "#opt = SGD(lr=lrate) # SGD optimizer\n",
        "opt = RMSprop(lr=lrate) # RMSprop optimizer\n",
        "\n",
        "# random seed\n",
        "rs = 20201108 # OK \n",
        "\n",
        "np.random.seed(rs)\n",
        "tf.random.set_seed(rs)\n",
        "\n",
        "# Create ANN model\n",
        "model = Sequential()\n",
        "model.add(Dense(nh, input_dim=ninput, activation=acth))\n",
        "model.add(Dense(no, activation=acto))\n",
        "\n",
        "model.compile(loss=lossfn, optimizer=opt, metrics=['accuracy'])\n",
        "\n",
        "print(model.summary())\n",
        "\n",
        "# Training setup\n",
        "\n",
        "nepochs = 100     # nr. of learning steps\n",
        "batch_size = 8   # batch_size\n",
        "niter = 0         # iteration counter\n",
        "hv = []           # history vector (for plotting)"
      ],
      "execution_count": null,
      "outputs": [
        {
          "output_type": "stream",
          "text": [
            "Model: \"sequential\"\n",
            "_________________________________________________________________\n",
            "Layer (type)                 Output Shape              Param #   \n",
            "=================================================================\n",
            "dense (Dense)                (None, 2)                 6         \n",
            "_________________________________________________________________\n",
            "dense_1 (Dense)              (None, 1)                 3         \n",
            "=================================================================\n",
            "Total params: 9\n",
            "Trainable params: 9\n",
            "Non-trainable params: 0\n",
            "_________________________________________________________________\n",
            "None\n"
          ],
          "name": "stdout"
        }
      ]
    },
    {
      "cell_type": "markdown",
      "metadata": {
        "id": "7WGtnOsZhMzO"
      },
      "source": [
        "## Training"
      ]
    },
    {
      "cell_type": "code",
      "metadata": {
        "id": "4zqXyBhEzvcB",
        "colab": {
          "base_uri": "https://localhost:8080/"
        },
        "outputId": "e63f89ac-cb4c-4a38-b45f-ccbe79486e31"
      },
      "source": [
        "for i in range(10):\n",
        "  h = model.fit(X, t, batch_size=batch_size, epochs=nepochs, verbose=0)\n",
        "  hv.append(h)\n",
        "  niter += nepochs\n",
        "  current_loss = h.history['loss'][len(h.history['loss'])-1]\n",
        "  current_acc = h.history['accuracy'][len(h.history['accuracy'])-1]\n",
        "  print(\"Iteration %d - Accuracy %.2f Loss %f\" \n",
        "      %(niter,current_acc,current_loss))\n",
        "  \n",
        "  if (X.shape[0]==4):\n",
        "    yp = model.predict(X)\n",
        "    print(\"Test %s\" %(np.transpose(yp)))\n",
        "    print(\"-----------------------------------------------------\")"
      ],
      "execution_count": null,
      "outputs": [
        {
          "output_type": "stream",
          "text": [
            "Iteration 100 - Accuracy 0.68 Loss 0.134918\n",
            "Iteration 200 - Accuracy 1.00 Loss 0.046758\n",
            "Iteration 300 - Accuracy 1.00 Loss 0.010364\n",
            "Iteration 400 - Accuracy 1.00 Loss 0.006673\n",
            "Iteration 500 - Accuracy 1.00 Loss 0.005936\n",
            "Iteration 600 - Accuracy 1.00 Loss 0.005713\n",
            "Iteration 700 - Accuracy 1.00 Loss 0.005655\n",
            "Iteration 800 - Accuracy 1.00 Loss 0.005645\n",
            "Iteration 900 - Accuracy 1.00 Loss 0.005644\n",
            "Iteration 1000 - Accuracy 1.00 Loss 0.005646\n"
          ],
          "name": "stdout"
        }
      ]
    },
    {
      "cell_type": "markdown",
      "metadata": {
        "id": "FZBE0gClhWRM"
      },
      "source": [
        "## Plot results"
      ]
    },
    {
      "cell_type": "code",
      "metadata": {
        "id": "nkM89Q6ehYWG",
        "colab": {
          "base_uri": "https://localhost:8080/",
          "height": 562
        },
        "outputId": "59e6f330-2f59-4467-b014-66712de8384f"
      },
      "source": [
        "ploss = []\n",
        "pacc = []\n",
        "\n",
        "for i in range(len(hv)):\n",
        "  ploss += hv[i].history['loss']\n",
        "  pacc  += hv[i].history['accuracy']\n",
        "print(len(ploss))\n",
        "\n",
        "plt.title(\"Loss\")\n",
        "plt.ylim(-0.02,max(ploss))\n",
        "plt.plot(ploss, color='red')\n",
        "plt.show()\n",
        "\n",
        "plt.title(\"Accuracy\")\n",
        "plt.ylim(min(pacc),1.02)\n",
        "plt.plot(pacc, color='blue')\n",
        "plt.show()\n"
      ],
      "execution_count": null,
      "outputs": [
        {
          "output_type": "stream",
          "text": [
            "1000\n"
          ],
          "name": "stdout"
        },
        {
          "output_type": "display_data",
          "data": {
            "image/png": "[encoded data removed]",
            "text/plain": [
              "<Figure size 432x288 with 1 Axes>"
            ]
          },
          "metadata": {
            "tags": [],
            "needs_background": "light"
          }
        },
        {
          "output_type": "display_data",
          "data": {
            "image/png": "[encoded data removed]",
            "text/plain": [
              "<Figure size 432x288 with 1 Axes>"
            ]
          },
          "metadata": {
            "tags": [],
            "needs_background": "light"
          }
        }
      ]
    },
    {
      "cell_type": "markdown",
      "metadata": {
        "id": "dGhr0v7ohRnj"
      },
      "source": [
        "## Analysis of the model"
      ]
    },
    {
      "cell_type": "code",
      "metadata": {
        "id": "sRsKTn2cbkre",
        "colab": {
          "base_uri": "https://localhost:8080/",
          "height": 332
        },
        "outputId": "f1ce050e-805e-4977-f15f-73e3264b328f"
      },
      "source": [
        "W = model.get_weights()\n",
        "print('W = ',W)\n",
        "\n",
        "H = []\n",
        "\n",
        "for x in X:\n",
        "  v = np.transpose(W[0]).dot(x) + W[1]\n",
        "  h = max([0,0],list(v))  # relu\n",
        "  H += [h]\n",
        "\n",
        "H = np.array(H)\n",
        "if H.shape[0]==4:\n",
        "  print('H = ',H)\n",
        "\n",
        "# plot h values\n",
        "\n",
        "plt.title(\"Hidden layer values\")\n",
        "\n",
        "cm = plt.cm.get_cmap('rainbow')\n",
        "plt.scatter(H[:,0], H[:,1], c=t, cmap=cm)\n",
        "\n",
        "plt.show()\n"
      ],
      "execution_count": null,
      "outputs": [
        {
          "output_type": "stream",
          "text": [
            "W =  [array([[-1.211,  0.836],\n",
            "       [ 1.007, -0.887]], dtype=float32), array([-0.339,  0.119], dtype=float32), array([[ 1.712],\n",
            "       [ 0.990]], dtype=float32), array([ 0.002], dtype=float32)]\n"
          ],
          "name": "stdout"
        },
        {
          "output_type": "display_data",
          "data": {
            "image/png": "[encoded data removed]",
            "text/plain": [
              "<Figure size 432x288 with 1 Axes>"
            ]
          },
          "metadata": {
            "tags": [],
            "needs_background": "light"
          }
        }
      ]
    },
    {
      "cell_type": "markdown",
      "metadata": {
        "id": "jTIrT76Yzlep"
      },
      "source": [
        "# Home Exercises\n",
        "\n",
        "**Question 1**\n",
        "\n",
        "Compare the results when using different values of the learning rate. \n",
        "\n",
        "**Question 2**\n",
        "\n",
        "What happens when the learning rate is too high?"
      ]
    }
  ]
}